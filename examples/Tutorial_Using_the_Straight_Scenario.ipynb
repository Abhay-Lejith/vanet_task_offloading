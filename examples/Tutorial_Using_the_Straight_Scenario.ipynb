{
 "cells": [
  {
   "cell_type": "markdown",
   "id": "3009dc21",
   "metadata": {},
   "source": [
    "# Use VeinsGym with the Straight Scenario\n",
    "\n",
    "This notebook registers and runs the `straight_scenario` with VeinsGym. The agent observes features relevant for task offloading and returns an action: 0 = no offload, 1/2/3 = offload to RSU 0/1/2."
   ]
  },
  {
   "cell_type": "markdown",
   "id": "710828aa",
   "metadata": {},
   "source": [
    "## Dependencies\n",
    "\n",
    "You'll need SUMO, OMNeT++, a C++ compiler, ZeroMQ, and the `veins_gym` Python package."
   ]
  },
  {
   "cell_type": "code",
   "execution_count": 1,
   "id": "bc6b9a03",
   "metadata": {},
   "outputs": [],
   "source": [
    "import numpy as np\n",
    "if not hasattr(np, 'bool8'):\n",
    "    np.bool8 = np.bool_"
   ]
  },
  {
   "cell_type": "code",
   "execution_count": 2,
   "id": "341013aa",
   "metadata": {},
   "outputs": [
    {
     "name": "stderr",
     "output_type": "stream",
     "text": [
      "Gym has been unmaintained since 2022 and does not support NumPy 2.0 amongst other critical functionality.\n",
      "Please upgrade to Gymnasium, the maintained drop-in replacement of Gym, or contact the authors of your software and request that they upgrade.\n",
      "Users of this version of Gym should be able to simply replace 'import gym' with 'import gymnasium as gym' in the vast majority of cases.\n",
      "See the migration guide at https://gymnasium.farama.org/introduction/migration_guide/ for additional information.\n"
     ]
    }
   ],
   "source": [
    "import gym\n",
    "import veins_gym"
   ]
  },
  {
   "cell_type": "code",
   "execution_count": 3,
   "id": "12e055c8",
   "metadata": {},
   "outputs": [
    {
     "name": "stdout",
     "output_type": "stream",
     "text": [
      "Sourced: /home/abhay/omnetpp-5.7.1/setenv\n",
      "opp_run path: /home/abhay/omnetpp-5.7.1/bin/opp_run\n",
      "OMNeT++ Discrete Event Simulation  (C) 1992-2021 Andras Varga, OpenSim Ltd.\n",
      "scenario dir: /home/abhay/Major_Project/vanet_task_offloading/scenario\n",
      "omnetpp.ini exists: True\n",
      "run script exists: True\n",
      "sumo path: /usr/bin/sumo\n"
     ]
    }
   ],
   "source": [
    "# Ensure OMNeT++ environment is available inside this kernel\n",
    "import os, subprocess, shutil, sys, pathlib\n",
    "\n",
    "def source_bash_env(script_path: str):\n",
    "    cmd = f\"bash -lc 'source {script_path} && env -0'\"\n",
    "    out = subprocess.check_output(cmd, shell=True)\n",
    "    for chunk in out.split(b'\\x00'):\n",
    "        if not chunk: continue\n",
    "        k, _, v = chunk.partition(b'=')\n",
    "        if k: os.environ[k.decode()] = v.decode()\n",
    "\n",
    "omnetpp_setenv = \"/home/abhay/omnetpp-5.7.1/setenv\"\n",
    "if os.path.exists(omnetpp_setenv):\n",
    "    source_bash_env(omnetpp_setenv)\n",
    "    print('Sourced:', omnetpp_setenv)\n",
    "else:\n",
    "    raise FileNotFoundError(f'OMNeT++ setenv not found at {omnetpp_setenv}. Update the path if installed elsewhere.')\n",
    "\n",
    "print('opp_run path:', shutil.which('opp_run'))\n",
    "try:\n",
    "    ver = subprocess.run(['opp_run', '-v'], check=False, capture_output=True, text=True).stdout.splitlines()[0]\n",
    "    print(ver)\n",
    "except Exception as e:\n",
    "    print('Warning: opp_run not callable:', e)\n",
    "\n",
    "# Preflight checks for straight scenario (now using ../scenario)\n",
    "base = pathlib.Path.cwd()\n",
    "sc_dir = (base / '..' / 'scenario').resolve()\n",
    "print('scenario dir:', sc_dir)\n",
    "print('omnetpp.ini exists:', (sc_dir / 'omnetpp.ini').exists())\n",
    "print('run script exists:', (sc_dir / 'run').exists())\n",
    "print('sumo path:', shutil.which('sumo'))"
   ]
  },
  {
   "cell_type": "code",
   "execution_count": 4,
   "id": "78fbd306",
   "metadata": {},
   "outputs": [
    {
     "name": "stdout",
     "output_type": "stream",
     "text": [
      "Registered veins-straight-v1 with scenario_dir: /home/abhay/Major_Project/vanet_task_offloading/scenario\n"
     ]
    }
   ],
   "source": [
    "# Register the Straight scenario as a Gym environment (no extra plugin lib needed)\n",
    "import os, pathlib, subprocess, shutil\n",
    "base = pathlib.Path.cwd()\n",
    "sc_dir = (base / '..' / 'scenario').resolve()\n",
    "assert (sc_dir / 'omnetpp.ini').exists(), 'Missing scenario/omnetpp.ini'\n",
    "gym.register(\n",
    "    id='veins-straight-v1',\n",
    "    entry_point='veins_gym:VeinsEnv',\n",
    "    kwargs={\n",
    "        'scenario_dir': '../scenario',\n",
    "        'timeout': 7.0,\n",
    "        'print_veins_stdout': True,\n",
    "        # 'user_interface': 'Cmdenv',\n",
    "        'config': 'StraightRoad',\n",
    "        # \"run_veins\": False,  # do not start veins through Veins-Gym\n",
    "\t\t# \"port\": 5555, \n",
    "    },\n",
    ")\n",
    "print('Registered veins-straight-v1 with scenario_dir:', sc_dir)"
   ]
  },
  {
   "cell_type": "markdown",
   "id": "0becc702",
   "metadata": {},
   "source": [
    "Create the environment and step it with random actions for a quick smoke test."
   ]
  },
  {
   "cell_type": "code",
   "execution_count": 5,
   "id": "03b13012",
   "metadata": {},
   "outputs": [
    {
     "name": "stderr",
     "output_type": "stream",
     "text": [
      "/home/abhay/anaconda3/envs/mp/lib/python3.13/site-packages/gym/utils/passive_env_checker.py:181: UserWarning: \u001b[33mWARN: The default seed argument in `Env.reset` should be `None`, otherwise the environment will by default always be deterministic. Actual default: seed='NO SEED GIVEN'\u001b[0m\n",
      "  logger.warn(\n",
      "/home/abhay/anaconda3/envs/mp/lib/python3.13/site-packages/gym/utils/passive_env_checker.py:195: UserWarning: \u001b[33mWARN: The result returned by `env.reset()` was not a tuple of the form `(obs, info)`, where `obs` is a observation and `info` is a dictionary containing additional information. Actual type: `<class 'numpy.ndarray'>`\u001b[0m\n",
      "  logger.warn(\n",
      "/home/abhay/anaconda3/envs/mp/lib/python3.13/site-packages/gym/utils/passive_env_checker.py:219: DeprecationWarning: \u001b[33mWARN: Core environment is written in old step API which returns one bool instead of two. It is recommended to rewrite the environment with new step API. \u001b[0m\n",
      "  logger.deprecation(\n"
     ]
    },
    {
     "name": "stdout",
     "output_type": "stream",
     "text": [
      "Initial observation shape: (7,)\n",
      "Episode steps: 830\n"
     ]
    }
   ],
   "source": [
    "env = gym.make('veins-straight-v1')\n",
    "obs = env.reset()\n",
    "print('Initial observation shape:', np.array(obs).shape)\n",
    "done = False\n",
    "steps = 0\n",
    "while not done:\n",
    "    action = env.action_space.sample()  # 0..3\n",
    "    obs, reward, done, info = env.step(action)\n",
    "    steps += 1\n",
    "print('Episode steps:', steps)"
   ]
  },
  {
   "cell_type": "markdown",
   "id": "7c149d47",
   "metadata": {},
   "source": [
    "## Example: Mean Reward\n",
    "\n",
    "Roll out once and compute mean reward."
   ]
  },
  {
   "cell_type": "code",
   "execution_count": 6,
   "id": "1bd8a4ea",
   "metadata": {},
   "outputs": [
    {
     "name": "stdout",
     "output_type": "stream",
     "text": [
      "Number of steps: 830\n",
      "Mean reward: 0.0\n"
     ]
    }
   ],
   "source": [
    "obs = env.reset()\n",
    "done = False\n",
    "rewards = []\n",
    "while not done:\n",
    "    action = env.action_space.sample()\n",
    "    obs, reward, done, info = env.step(action)\n",
    "    rewards.append(reward)\n",
    "print('Number of steps:', len(rewards))\n",
    "print('Mean reward:', float(np.mean(rewards)) if rewards else 0.0)"
   ]
  }
 ],
 "metadata": {
  "kernelspec": {
   "display_name": "mp",
   "language": "python",
   "name": "python3"
  },
  "language_info": {
   "codemirror_mode": {
    "name": "ipython",
    "version": 3
   },
   "file_extension": ".py",
   "mimetype": "text/x-python",
   "name": "python",
   "nbconvert_exporter": "python",
   "pygments_lexer": "ipython3",
   "version": "3.13.7"
  }
 },
 "nbformat": 4,
 "nbformat_minor": 5
}
