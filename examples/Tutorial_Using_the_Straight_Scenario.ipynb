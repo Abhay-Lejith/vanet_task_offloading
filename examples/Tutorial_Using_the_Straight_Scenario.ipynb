{
 "cells": [
  {
   "cell_type": "markdown",
   "id": "3009dc21",
   "metadata": {},
   "source": [
    "# Use VeinsGym with the Straight Scenario\n",
    "\n",
    "This notebook registers and runs the `straight_scenario` with VeinsGym. The agent observes features relevant for task offloading and returns an action: 0 = no offload, 1/2/3 = offload to RSU 0/1/2."
   ]
  },
  {
   "cell_type": "markdown",
   "id": "710828aa",
   "metadata": {},
   "source": [
    "## Dependencies\n",
    "\n",
    "You'll need SUMO, OMNeT++, a C++ compiler, ZeroMQ, and the `veins_gym` Python package."
   ]
  },
  {
   "cell_type": "code",
   "execution_count": 1,
   "id": "bc6b9a03",
   "metadata": {},
   "outputs": [],
   "source": [
    "import numpy as np\n",
    "if not hasattr(np, 'bool8'):\n",
    "    np.bool8 = np.bool_"
   ]
  },
  {
   "cell_type": "code",
   "execution_count": 2,
   "id": "341013aa",
   "metadata": {},
   "outputs": [
    {
     "name": "stderr",
     "output_type": "stream",
     "text": [
      "Gym has been unmaintained since 2022 and does not support NumPy 2.0 amongst other critical functionality.\n",
      "Please upgrade to Gymnasium, the maintained drop-in replacement of Gym, or contact the authors of your software and request that they upgrade.\n",
      "Users of this version of Gym should be able to simply replace 'import gym' with 'import gymnasium as gym' in the vast majority of cases.\n",
      "See the migration guide at https://gymnasium.farama.org/introduction/migration_guide/ for additional information.\n"
     ]
    }
   ],
   "source": [
    "import gym\n",
    "import veins_gym"
   ]
  },
  {
   "cell_type": "code",
   "execution_count": 3,
   "id": "12e055c8",
   "metadata": {},
   "outputs": [
    {
     "name": "stdout",
     "output_type": "stream",
     "text": [
      "Sourced: /home/abhay/omnetpp-5.7.1/setenv\n",
      "opp_run path: /home/abhay/omnetpp-5.7.1/bin/opp_run\n",
      "OMNeT++ Discrete Event Simulation  (C) 1992-2021 Andras Varga, OpenSim Ltd.\n",
      "scenario dir: /home/abhay/Major_Project/vanet_task_offloading/scenario\n",
      "omnetpp.ini exists: True\n",
      "run script exists: True\n",
      "sumo path: /usr/bin/sumo\n"
     ]
    }
   ],
   "source": [
    "# Ensure OMNeT++ environment is available inside this kernel\n",
    "import os, subprocess, shutil, sys, pathlib\n",
    "\n",
    "def source_bash_env(script_path: str):\n",
    "    cmd = f\"bash -lc 'source {script_path} && env -0'\"\n",
    "    out = subprocess.check_output(cmd, shell=True)\n",
    "    for chunk in out.split(b'\\x00'):\n",
    "        if not chunk: continue\n",
    "        k, _, v = chunk.partition(b'=')\n",
    "        if k: os.environ[k.decode()] = v.decode()\n",
    "\n",
    "omnetpp_setenv = \"/home/abhay/omnetpp-5.7.1/setenv\"\n",
    "if os.path.exists(omnetpp_setenv):\n",
    "    source_bash_env(omnetpp_setenv)\n",
    "    print('Sourced:', omnetpp_setenv)\n",
    "else:\n",
    "    raise FileNotFoundError(f'OMNeT++ setenv not found at {omnetpp_setenv}. Update the path if installed elsewhere.')\n",
    "\n",
    "print('opp_run path:', shutil.which('opp_run'))\n",
    "try:\n",
    "    ver = subprocess.run(['opp_run', '-v'], check=False, capture_output=True, text=True).stdout.splitlines()[0]\n",
    "    print(ver)\n",
    "except Exception as e:\n",
    "    print('Warning: opp_run not callable:', e)\n",
    "\n",
    "# Preflight checks for straight scenario (now using ../scenario)\n",
    "base = pathlib.Path.cwd()\n",
    "sc_dir = (base / '..' / 'scenario').resolve()\n",
    "print('scenario dir:', sc_dir)\n",
    "print('omnetpp.ini exists:', (sc_dir / 'omnetpp.ini').exists())\n",
    "print('run script exists:', (sc_dir / 'run').exists())\n",
    "print('sumo path:', shutil.which('sumo'))"
   ]
  },
  {
   "cell_type": "code",
   "execution_count": 4,
   "id": "78fbd306",
   "metadata": {},
   "outputs": [
    {
     "name": "stdout",
     "output_type": "stream",
     "text": [
      "Registered veins-straight-v1 with scenario_dir: /home/abhay/Major_Project/vanet_task_offloading/scenario\n"
     ]
    }
   ],
   "source": [
    "# Register the Straight scenario as a Gym environment (no extra plugin lib needed)\n",
    "import os, pathlib, subprocess, shutil\n",
    "base = pathlib.Path.cwd()\n",
    "sc_dir = (base / '..' / 'scenario').resolve()\n",
    "assert (sc_dir / 'omnetpp.ini').exists(), 'Missing scenario/omnetpp.ini'\n",
    "gym.register(\n",
    "    id='veins-straight-v1',\n",
    "    entry_point='veins_gym:VeinsEnv',\n",
    "    kwargs={\n",
    "        'scenario_dir': '../scenario',\n",
    "        'timeout': 7.0,\n",
    "        'print_veins_stdout': True,\n",
    "        # 'user_interface': 'Cmdenv',\n",
    "        'config': 'StraightRoad',\n",
    "        # \"run_veins\": False,  # do not start veins through Veins-Gym\n",
    "\t\t# \"port\": 5555, \n",
    "    },\n",
    ")\n",
    "print('Registered veins-straight-v1 with scenario_dir:', sc_dir)"
   ]
  },
  {
   "cell_type": "markdown",
   "id": "0becc702",
   "metadata": {},
   "source": [
    "Create the environment and step it with random actions for a quick smoke test."
   ]
  },
  {
   "cell_type": "code",
   "execution_count": 5,
   "id": "684b554b",
   "metadata": {},
   "outputs": [],
   "source": [
    "env = gym.make('veins-straight-v1')"
   ]
  },
  {
   "cell_type": "markdown",
   "id": "7c149d47",
   "metadata": {},
   "source": [
    "## Example: Mean Reward\n",
    "\n",
    "Roll out once and compute mean reward."
   ]
  },
  {
   "cell_type": "code",
   "execution_count": 6,
   "id": "1bd8a4ea",
   "metadata": {},
   "outputs": [
    {
     "name": "stderr",
     "output_type": "stream",
     "text": [
      "/home/abhay/anaconda3/envs/mp/lib/python3.13/site-packages/gym/utils/passive_env_checker.py:181: UserWarning: \u001b[33mWARN: The default seed argument in `Env.reset` should be `None`, otherwise the environment will by default always be deterministic. Actual default: seed='NO SEED GIVEN'\u001b[0m\n",
      "  logger.warn(\n",
      "/home/abhay/anaconda3/envs/mp/lib/python3.13/site-packages/gym/utils/passive_env_checker.py:195: UserWarning: \u001b[33mWARN: The result returned by `env.reset()` was not a tuple of the form `(obs, info)`, where `obs` is a observation and `info` is a dictionary containing additional information. Actual type: `<class 'numpy.ndarray'>`\u001b[0m\n",
      "  logger.warn(\n",
      "/home/abhay/anaconda3/envs/mp/lib/python3.13/site-packages/gym/utils/passive_env_checker.py:219: DeprecationWarning: \u001b[33mWARN: Core environment is written in old step API which returns one bool instead of two. It is recommended to rewrite the environment with new step API. \u001b[0m\n",
      "  logger.deprecation(\n"
     ]
    },
    {
     "name": "stdout",
     "output_type": "stream",
     "text": [
      "Step:0\n",
      "   speed(m/s)       d0(m)       d1(m)       d2(m) taskSize(MB)    rsu0Busy    rsu1Busy    rsu2Busy   ul0(Mbps)   ul1(Mbps)   ul2(Mbps)\n",
      "        16.67      276.30      775.46     1275.28       15.68        0.00        0.00        0.00       74.19       44.98       31.68\n",
      "\n",
      "Received reward: 0.16\n",
      "Step:62\n",
      "   speed(m/s)       d0(m)       d1(m)       d2(m) taskSize(MB)    rsu0Busy    rsu1Busy    rsu2Busy   ul0(Mbps)   ul1(Mbps)   ul2(Mbps)\n",
      "        16.67      177.02      675.51     1175.28       12.96        0.00        0.00        0.00       86.99       48.81       33.79\n",
      "\n",
      "Received reward: 0.02\n",
      "Step:473\n",
      "   speed(m/s)       d0(m)       d1(m)       d2(m) taskSize(MB)    rsu0Busy    rsu1Busy    rsu2Busy   ul0(Mbps)   ul1(Mbps)   ul2(Mbps)\n",
      "        16.67      509.19       28.08      492.24       17.37        0.00        0.00        0.00       56.75      140.07       57.71\n",
      "\n",
      "Received reward: 0.22\n",
      "Step:519\n",
      "   speed(m/s)       d0(m)       d1(m)       d2(m) taskSize(MB)    rsu0Busy    rsu1Busy    rsu2Busy   ul0(Mbps)   ul1(Mbps)   ul2(Mbps)\n",
      "        16.67      592.45       95.66      409.04       12.79        0.00        0.00        0.00       52.48      104.72       62.97\n",
      "\n",
      "Number of steps: 897\n",
      "Mean reward: 0.1344471126794815\n"
     ]
    }
   ],
   "source": [
    "obs = env.reset()\n",
    "\n",
    "# Define observation headers matching the new 11-D vector from C++\n",
    "headers = [\n",
    "    \"speed(m/s)\", \"d0(m)\", \"d1(m)\", \"d2(m)\", \"taskSize(MB)\",\n",
    "    \"rsu0Busy\", \"rsu1Busy\", \"rsu2Busy\", \"ul0(Mbps)\", \"ul1(Mbps)\", \"ul2(Mbps)\"\n",
    "]\n",
    "\n",
    "def print_obs(step, obs_vec):\n",
    "    vals = [float(x) for x in np.asarray(obs_vec).tolist()]\n",
    "    # Header row\n",
    "    print(f\"Step:{step}\")\n",
    "    print(\"  \" + \" \".join(f\"{h:>11}\" for h in headers))\n",
    "    # Values row (2 decimals)\n",
    "    print(\"  \" + \" \".join(f\"{v:>11.2f}\" for v in vals))\n",
    "    print()\n",
    "\n",
    "# Print initial observation neatly\n",
    "print_obs(0, obs)\n",
    "\n",
    "# Rollout\n",
    "done = False\n",
    "rewards = []\n",
    "steps = 0\n",
    "while not done:\n",
    "    action = env.action_space.sample()\n",
    "    obs, reward, done, info = env.step(action)\n",
    "    # Print reward when non-zero\n",
    "    if reward != 0.0:\n",
    "        print(f\"Received reward: {round(float(reward), 2)}\")\n",
    "        rewards.append(reward)\n",
    "\n",
    "    # Print observation table when a task is present (taskSize > 0)\n",
    "    if float(obs[4]) >= 10.0:\n",
    "        print_obs(steps, obs)\n",
    "    steps += 1\n",
    "\n",
    "print('Number of steps:', steps)\n",
    "print('Mean reward:', float(np.mean(rewards)) if rewards else 0.0)"
   ]
  },
  {
   "cell_type": "code",
   "execution_count": null,
   "id": "1355d531",
   "metadata": {},
   "outputs": [],
   "source": []
  }
 ],
 "metadata": {
  "kernelspec": {
   "display_name": "mp",
   "language": "python",
   "name": "python3"
  },
  "language_info": {
   "codemirror_mode": {
    "name": "ipython",
    "version": 3
   },
   "file_extension": ".py",
   "mimetype": "text/x-python",
   "name": "python",
   "nbconvert_exporter": "python",
   "pygments_lexer": "ipython3",
   "version": "3.13.7"
  }
 },
 "nbformat": 4,
 "nbformat_minor": 5
}
